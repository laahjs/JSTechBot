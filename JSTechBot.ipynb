{
  "nbformat": 4,
  "nbformat_minor": 0,
  "metadata": {
    "colab": {
      "provenance": [],
      "authorship_tag": "ABX9TyP2YLV8movfFk7FeQoA9u1k",
      "include_colab_link": true
    },
    "kernelspec": {
      "name": "python3",
      "display_name": "Python 3"
    },
    "language_info": {
      "name": "python"
    }
  },
  "cells": [
    {
      "cell_type": "markdown",
      "metadata": {
        "id": "view-in-github",
        "colab_type": "text"
      },
      "source": [
        "<a href=\"https://colab.research.google.com/github/laahjs/JSTechbot/blob/Chatbot/JSTechBot.ipynb\" target=\"_parent\"><img src=\"https://colab.research.google.com/assets/colab-badge.svg\" alt=\"Open In Colab\"/></a>"
      ]
    },
    {
      "cell_type": "markdown",
      "source": [
        "#🔧**Bem-vindo ao JSTech!**\n",
        "\n",
        "Seu chatbot técnico tá aqui! Pode me perguntar que a gente vai resolver esse problema juntos! 👊🏾"
      ],
      "metadata": {
        "id": "vRXV-RuyTWoT"
      }
    },
    {
      "cell_type": "code",
      "execution_count": 1,
      "metadata": {
        "id": "k2dWzyMOTK38"
      },
      "outputs": [],
      "source": [
        "# Biblioteca\n",
        "%pip -q install google-genai"
      ]
    },
    {
      "cell_type": "code",
      "source": [
        "# API Key do Google Gemini\n",
        "import os\n",
        "from google.colab import userdata\n",
        "import google.generativeai as genai"
      ],
      "metadata": {
        "id": "ZdoYqrInTK-_"
      },
      "execution_count": 2,
      "outputs": []
    },
    {
      "cell_type": "code",
      "source": [
        "# Configura a API Key\n",
        "# Use genai.configure com api_key\n",
        "os.environ[\"GOOGLE_API_KEY\"] = userdata.get('GOOGLE_API_KEY')\n",
        "genai.configure(api_key=os.environ[\"GOOGLE_API_KEY\"])"
      ],
      "metadata": {
        "id": "p8GzhKUzU-A5"
      },
      "execution_count": 3,
      "outputs": []
    },
    {
      "cell_type": "code",
      "source": [
        "# Inicializa o modelo\n",
        "MODEL_ID = \"gemini-2.0-flash\"\n",
        "model = genai.GenerativeModel(MODEL_ID)"
      ],
      "metadata": {
        "id": "oLVmMsXQVAOi"
      },
      "execution_count": 4,
      "outputs": []
    },
    {
      "cell_type": "code",
      "source": [
        "# A primeira entrada define o \"system instruction\" ou o contexto inicial como uma mensagem do usuário\n",
        "conversa = [\n",
        "    {\"role\": \"user\", \"parts\": [\"Você é um técnico especializado em manutenção de computadores, notebooks, impressoras e celulares. Responda sempre de forma clara, objetiva e útil.\"]}\n",
        "]\n",
        "\n",
        "# Função que envia a pergunta e atualiza o histórico\n",
        "def perguntar_ao_bot(pergunta):\n",
        "    # Adiciona a pergunta do usuário ao histórico no formato correto\n",
        "    conversa.append({\"role\": \"user\", \"parts\": [pergunta]})\n",
        "\n",
        "    try:\n",
        "        # Envia a conversa completa (histórico + nova pergunta) para o modelo\n",
        "        # Para que o modelo retorne fontes, você precisaria configurar ferramentas/grounding aqui.\n",
        "        # Como na sugestão anterior, o código abaixo apenas verifica se há atribuições caso a API as retorne.\n",
        "        resposta = model.generate_content(conversa)\n",
        "\n",
        "        resposta_texto = \"\"\n",
        "        if resposta.candidates:\n",
        "            for candidate in resposta.candidates:\n",
        "                if candidate.content and candidate.content.parts:\n",
        "                    for part in candidate.content.parts:\n",
        "                        if part.text:\n",
        "                            resposta_texto += part.text\n",
        "\n",
        "                # Verifica se há atribuições de grounding (fontes) na resposta\n",
        "                # A presença e o conteúdo das fontes dependem da resposta do modelo\n",
        "                # e se ferramentas/grounding foram utilizados e configurados.\n",
        "                if candidate.citation_metadata and candidate.citation_metadata.citation_sources:\n",
        "                    resposta_texto += \"\\n\\nFontes:\"\n",
        "                    for i, source in enumerate(candidate.citation_metadata.citation_sources):\n",
        "                        resposta_texto += f\"\\n[{i+1}] \"\n",
        "                        if source.uri:\n",
        "                            resposta_texto += f\"URL: {source.uri}\"\n",
        "                        if source.license:\n",
        "                            resposta_texto += f\", Licença: {source.license}\"\n",
        "                        # Outros campos como start_index, end_index, text podem estar disponíveis dependendo da fonte\n",
        "\n",
        "        if not resposta_texto:\n",
        "             # Verifica se há blocos de código ou outros conteúdos não textuais que a geração falhou em processar como texto\n",
        "            if resposta.candidates and resposta.candidates[0].finish_reason:\n",
        "                 resposta_texto = f\"Resposta não gerada completamente. Motivo: {resposta.candidates[0].finish_reason}\"\n",
        "            else:\n",
        "                resposta_texto = \"Não foi possível gerar uma resposta.\"\n",
        "\n",
        "\n",
        "        # Adiciona a resposta do assistente ao histórico no formato correto\n",
        "        conversa.append({\"role\": \"model\", \"parts\": [resposta_texto]})\n",
        "\n",
        "        return resposta_texto\n",
        "\n",
        "    except Exception as e:\n",
        "        # Em caso de erro na API, você pode querer inspecionar o conteúdo da lista conversa\n",
        "        # antes de tentar novamente em um ambiente de depuração.\n",
        "        return f\"Erro ao gerar resposta: {e}\""
      ],
      "metadata": {
        "id": "NhnXXJbCVJgK"
      },
      "execution_count": 5,
      "outputs": []
    },
    {
      "cell_type": "code",
      "source": [
        "# Teste rápido com uma pergunta técnica\n",
        "\n",
        "pergunta = \"Qual tecla acessa o setup do Samsung RV411?\"\n",
        "resposta = perguntar_ao_bot(pergunta)\n",
        "print(\"🔧 JSTech:\\n\", resposta)"
      ],
      "metadata": {
        "colab": {
          "base_uri": "https://localhost:8080/",
          "height": 104
        },
        "id": "E1GIfAGrVKpA",
        "outputId": "3fdaf1ff-2f1e-43af-f864-839b11a38b4b"
      },
      "execution_count": 6,
      "outputs": [
        {
          "output_type": "stream",
          "name": "stdout",
          "text": [
            "🔧 JSTech:\n",
            " A tecla para acessar o setup (BIOS/UEFI) do notebook Samsung RV411 é **F2**.\n",
            "\n",
            "Ligue o notebook e pressione repetidamente a tecla **F2** durante a inicialização, antes que o sistema operacional comece a carregar.\n",
            "\n"
          ]
        }
      ]
    },
    {
      "cell_type": "code",
      "source": [
        "# Iniciar uma conversa contínua com o chatbot\n",
        "\n",
        "print(\"Olá, Bem-vindo ao JSTech! Pergunte algo ou digite 'sair' para encerrar.\")\n",
        "\n",
        "while True:\n",
        "    pergunta = input(\"Você: \")\n",
        "\n",
        "    if pergunta.lower() in ['sair', 'exit', 'quit']:\n",
        "        print(\"Valeu por usar o JSTech! Até mais.\")\n",
        "        break\n",
        "\n",
        "    resposta = perguntar_ao_bot(pergunta)\n",
        "    print(\"JSTech: \\n\", resposta)"
      ],
      "metadata": {
        "colab": {
          "base_uri": "https://localhost:8080/",
          "height": 1000
        },
        "id": "J1yyvLj0VXJy",
        "outputId": "44695533-9766-4d63-8947-d17ade6bdea8"
      },
      "execution_count": 7,
      "outputs": [
        {
          "output_type": "stream",
          "name": "stdout",
          "text": [
            "Olá, Bem-vindo ao JSTech! Pergunte algo ou digite 'sair' para encerrar.\n",
            "Você: Erro E0 HP 2774\n",
            "JSTech: \n",
            " O erro E0 em uma impressora HP DeskJet Ink Advantage 2774 indica um problema com o **cartucho de tinta**. Aqui estão as causas mais comuns e as soluções correspondentes:\n",
            "\n",
            "**Causas Comuns:**\n",
            "\n",
            "*   **Cartucho Ausente ou Não Reconhecido:** A impressora não detecta um ou ambos os cartuchos.\n",
            "*   **Cartucho Incompatível:** Você está usando um cartucho que não é compatível com a impressora.\n",
            "*   **Cartucho Vazio ou Quase Vazio:** Um ou ambos os cartuchos estão com pouca tinta ou completamente vazios.\n",
            "*   **Contato Sujo ou Bloqueado:** Os contatos do cartucho ou da impressora estão sujos ou obstruídos.\n",
            "*   **Cartucho Defeituoso:** O cartucho está com defeito e precisa ser substituído.\n",
            "*   **Problema Interno da Impressora:** Em casos raros, o problema pode ser um erro interno da impressora.\n",
            "\n",
            "**Soluções (Siga a ordem):**\n",
            "\n",
            "1.  **Verifique os Cartuchos:**\n",
            "\n",
            "    *   Certifique-se de que ambos os cartuchos (preto e colorido) estão instalados corretamente. Remova-os e reinsira-os, certificando-se de que \"clicam\" no lugar.\n",
            "    *   Verifique se os cartuchos são compatíveis com a sua HP DeskJet Ink Advantage 2774. Consulte a embalagem ou o manual da impressora.\n",
            "\n",
            "2.  **Limpe os Contatos:**\n",
            "\n",
            "    *   Desligue a impressora e desconecte o cabo de alimentação.\n",
            "    *   Abra a porta de acesso aos cartuchos.\n",
            "    *   Remova os cartuchos.\n",
            "    *   Examine os contatos de cobre nos cartuchos e no compartimento da impressora.\n",
            "    *   Limpe os contatos com um pano limpo e sem fiapos levemente umedecido com água destilada. **Não use álcool ou outros produtos de limpeza.**\n",
            "    *   Seque completamente os contatos antes de reinstalar os cartuchos.\n",
            "\n",
            "3.  **Reinicie a Impressora:**\n",
            "\n",
            "    *   Com a impressora ligada, desconecte o cabo de alimentação da parte traseira da impressora.\n",
            "    *   Aguarde 60 segundos.\n",
            "    *   Reconecte o cabo de alimentação na parte traseira da impressora.\n",
            "    *   A impressora deve ligar automaticamente. Caso contrário, pressione o botão de energia.\n",
            "\n",
            "4.  **Verifique os Níveis de Tinta:**\n",
            "\n",
            "    *   Através do software da impressora no seu computador, verifique os níveis de tinta estimados. Se um cartucho estiver vazio ou quase vazio, substitua-o.\n",
            "\n",
            "5.  **Substitua os Cartuchos:**\n",
            "\n",
            "    *   Se as etapas anteriores não resolverem o problema, tente substituir os cartuchos por cartuchos novos e originais da HP. Isso ajudará a determinar se o problema é com os cartuchos ou com a impressora.\n",
            "\n",
            "6.  **Redefinição da Impressora (Último Recurso - CUIDADO):**\n",
            "\n",
            "    *   Em alguns casos raros, uma redefinição da impressora pode resolver o problema. **No entanto, esse procedimento pode apagar configurações e informações da impressora.**  Consulte o manual da sua impressora ou o site de suporte da HP para obter instruções específicas sobre como redefinir a HP DeskJet Ink Advantage 2774.  **Faça isso apenas como último recurso e se você se sentir confortável com o processo.**\n",
            "\n",
            "7.  **Suporte da HP:**\n",
            "\n",
            "    *   Se nenhuma das soluções acima funcionar, entre em contato com o suporte da HP. Eles podem oferecer soluções adicionais ou determinar se a impressora precisa de reparo.\n",
            "\n",
            "**Importante:**\n",
            "\n",
            "*   Use sempre cartuchos de tinta originais da HP para garantir a melhor qualidade de impressão e evitar problemas de compatibilidade.\n",
            "*   Ao limpar os contatos, seja cuidadoso para não danificá-los.\n",
            "*   Se você não se sentir confortável em realizar alguma das etapas, procure um técnico especializado.\n",
            "\n",
            "Espero que isso ajude!\n",
            "\n",
            "Você: Qual é modelo de cartucho dessa impressora ?\n",
            "JSTech: \n",
            " A impressora HP DeskJet Ink Advantage 2774 utiliza os seguintes modelos de cartucho:\n",
            "\n",
            "*   **HP 667 Preto:** Usado para impressão em preto.\n",
            "*   **HP 667 Tricolor:** Usado para impressão colorida (ciano, magenta e amarelo).\n",
            "\n",
            "**Observação:** Em algumas regiões, pode haver variações nos números dos modelos de cartuchos, mas geralmente são equivalentes aos HP 667. É sempre importante verificar a embalagem do cartucho ou o manual da impressora para confirmar a compatibilidade.\n",
            "\n",
            "Você: Obrigado!\n",
            "JSTech: \n",
            " Por nada! Se precisar de mais alguma ajuda, é só perguntar. 😊\n",
            "\n",
            "Você: Preciso que me informe o código da tela do Acer Aspire V3-571-9423\n",
            "JSTech: \n",
            " Para determinar o código exato da tela do seu Acer Aspire V3-571-9423, preciso de mais informações. Existem algumas maneiras de encontrar essa informação:\n",
            "\n",
            "**1. Desmontando o Notebook (Recomendado, mas requer cuidado):**\n",
            "\n",
            "*   **Desligue o notebook e desconecte a bateria:** Isso é crucial para evitar danos ao equipamento.\n",
            "*   **Remova a moldura da tela:** Geralmente, a moldura é fixada por encaixes plásticos. Use uma espátula plástica ou ferramenta similar para desencaixá-la com cuidado, começando por um dos cantos.\n",
            "*   **Localize o código na parte traseira da tela:** Após remover a moldura, você terá acesso à parte traseira da tela LCD. Lá, você deve encontrar uma etiqueta com um código alfanumérico. Esse código é o que você procura.\n",
            "\n",
            "**Códigos Comuns Encontrados (possíveis, mas não garantidos):**\n",
            "\n",
            "Estes são apenas exemplos, e o código exato da sua tela pode ser diferente:\n",
            "\n",
            "*   B156XW02\n",
            "*   LP156WH4\n",
            "*   N156BGE\n",
            "\n",
            "**2. Usando Programas de Identificação de Hardware (Menos preciso, mas mais fácil):**\n",
            "\n",
            "Existem programas que podem tentar identificar a tela do seu notebook, mas nem sempre são precisos. Alguns exemplos são:\n",
            "\n",
            "*   **HWiNFO:** Um programa gratuito que fornece informações detalhadas sobre o hardware do seu computador.\n",
            "*   **AIDA64:** Um programa pago que oferece informações abrangentes sobre o hardware e software do sistema.\n",
            "\n",
            "**3. Verificando a Nota Fiscal ou Ordem de Serviço (Se houver):**\n",
            "\n",
            "*   Se você já precisou trocar a tela do seu notebook, verifique a nota fiscal do serviço ou a ordem de serviço. O código da tela pode estar listado nesses documentos.\n",
            "\n",
            "**4. Entrando em Contato com o Suporte da Acer (Opção mais segura):**\n",
            "\n",
            "*   Forneça o número de série do seu Acer Aspire V3-571-9423 (geralmente localizado na parte inferior do notebook) ao suporte da Acer. Eles podem ser capazes de identificar o código da tela com base no número de série.\n",
            "\n",
            "**IMPORTANTE:**\n",
            "\n",
            "*   Tenha cuidado ao desmontar o notebook, pois você pode danificar os componentes. Se você não se sentir confortável em fazer isso, procure um técnico especializado.\n",
            "*   Ao comprar uma tela nova, verifique se o código é exatamente o mesmo da sua tela original para garantir a compatibilidade.\n",
            "*   Consulte um técnico especializado se tiver dúvidas.\n",
            "\n",
            "Você: Certo, agora preciso de outra informação\n",
            "JSTech: \n",
            " Ok, qual a informação que você precisa? Estou à disposição para ajudar no que for possível.\n",
            "\n",
            "Você: não consigo lembrar qual é o comando que verifica de o Windows tem algum arquivo corrompido\n",
            "JSTech: \n",
            " O comando para verificar a integridade dos arquivos do sistema no Windows e tentar corrigir arquivos corrompidos é o **System File Checker (SFC)**.\n",
            "\n",
            "Para executá-lo, siga estes passos:\n",
            "\n",
            "1.  **Abra o Prompt de Comando como Administrador:**\n",
            "    *   Clique no menu Iniciar.\n",
            "    *   Digite \"cmd\" ou \"Prompt de Comando\".\n",
            "    *   Clique com o botão direito do mouse em \"Prompt de Comando\" e selecione \"Executar como administrador\".\n",
            "    *   Clique em \"Sim\" se for solicitado.\n",
            "\n",
            "2.  **Digite o comando SFC:**\n",
            "    *   No Prompt de Comando, digite o seguinte comando e pressione Enter:\n",
            "\n",
            "    ```\n",
            "    sfc /scannow\n",
            "    ```\n",
            "\n",
            "3.  **Aguarde a verificação:**\n",
            "    *   O SFC iniciará uma verificação completa de todos os arquivos protegidos do sistema. Esse processo pode demorar um pouco (de 15 minutos a mais de uma hora, dependendo do seu sistema).\n",
            "\n",
            "4.  **Interprete os resultados:**\n",
            "    *   Após a conclusão da verificação, você verá uma das seguintes mensagens:\n",
            "\n",
            "        *   **\"A Proteção de Recursos do Windows não encontrou nenhuma violação de integridade.\"** - Isso significa que não foram encontrados arquivos corrompidos.\n",
            "        *   **\"A Proteção de Recursos do Windows encontrou arquivos corrompidos e os reparou com êxito. Os detalhes estão incluídos no CBS.Log %WinDir%\\Logs\\CBS\\CBS.log.\"** - Isso significa que o SFC encontrou e corrigiu arquivos corrompidos. O arquivo CBS.log contém informações detalhadas sobre os reparos realizados.\n",
            "        *   **\"A Proteção de Recursos do Windows encontrou arquivos corrompidos, mas não conseguiu corrigir alguns deles. Os detalhes estão incluídos no CBS.Log %WinDir%\\Logs\\CBS\\CBS.log.\"** - Isso significa que o SFC encontrou arquivos corrompidos, mas não conseguiu reparar todos eles. Nesse caso, você pode tentar executar o comando novamente ou usar outras ferramentas de reparo (como o DISM, descrito abaixo).\n",
            "        *   **\"A Proteção de Recursos do Windows não pôde iniciar o serviço de reparo.\"** - Isso geralmente indica um problema com o serviço TrustedInstaller. Reiniciar o computador e tentar executar o SFC novamente pode resolver o problema.\n",
            "\n",
            "**Se o SFC não conseguir corrigir todos os arquivos corrompidos, você pode tentar usar o DISM (Deployment Image Servicing and Management) antes de executar o SFC novamente:**\n",
            "\n",
            "1.  **Abra o Prompt de Comando como Administrador (como descrito acima).**\n",
            "\n",
            "2.  **Execute o seguinte comando DISM:**\n",
            "\n",
            "    ```\n",
            "    DISM /Online /Cleanup-Image /RestoreHealth\n",
            "    ```\n",
            "\n",
            "    *   Este comando usa o Windows Update para substituir arquivos corrompidos. Ele também pode demorar um pouco.\n",
            "\n",
            "3.  **Após a conclusão do DISM, execute o comando SFC novamente:**\n",
            "\n",
            "    ```\n",
            "    sfc /scannow\n",
            "    ```\n",
            "\n",
            "    *   Com o DISM corrigindo a imagem do sistema, o SFC tem uma chance melhor de corrigir os arquivos corrompidos restantes.\n",
            "\n",
            "**Observações:**\n",
            "\n",
            "*   Certifique-se de estar executando o Prompt de Comando como administrador para que o SFC e o DISM tenham as permissões necessárias para realizar as operações.\n",
            "*   Se você ainda tiver problemas após executar o SFC e o DISM, pode ser necessário considerar a reinstalação do Windows.\n",
            "\n",
            "Espero que isso ajude a resolver seus problemas!\n",
            "\n",
            "\n",
            "Fontes:\n",
            "[1] URL: http://www.ehow.com.br/copiar-particao-recuperacao-hd-externo-xcopy-como_49786/\n",
            "[2] URL: https://answers.microsoft.com/pt-br/windows/forum/all/erro-ap%C3%B3s-formatar-pc/dad0384d-78e0-40c7-b42c-846947455ce5\n",
            "[3] URL: https://www.autodesk.com/br/support/technical/article/caas/sfdcarticles/sfdcarticles/PTB/How-to-remove-and-reinstall-the-Microsoft-NET-Framework.html\n",
            "[4] URL: https://br.easeus.com/partition-manager-tips/sfc-scannow-nao-pode-reparar-arquivos-corrompidos.html\n",
            "Você: sair\n",
            "Valeu por usar o JSTech! Até mais.\n"
          ]
        }
      ]
    }
  ]
}